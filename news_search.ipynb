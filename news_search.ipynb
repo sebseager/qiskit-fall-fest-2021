{
  "cells": [
    {
      "cell_type": "code",
      "execution_count": null,
      "metadata": {
        "id": "YrtOE85muhcd"
      },
      "outputs": [],
      "source": [
        "# Copyright 2021 Seb Seager\n",
        "\n",
        "# Licensed under the Apache License, Version 2.0 (the \"License\");\n",
        "# you may not use this file except in compliance with the License.\n",
        "# You may obtain a copy of the License at\n",
        "\n",
        "#    http://www.apache.org/licenses/LICENSE-2.0\n",
        "\n",
        "# Unless required by applicable law or agreed to in writing, software\n",
        "# distributed under the License is distributed on an \"AS IS\" BASIS,\n",
        "# WITHOUT WARRANTIES OR CONDITIONS OF ANY KIND, either express or implied.\n",
        "# See the License for the specific language governing permissions and\n",
        "# limitations under the License."
      ]
    },
    {
      "cell_type": "code",
      "execution_count": null,
      "metadata": {
        "id": "YrtOE85muhcd"
      },
      "outputs": [],
      "source": [
        "import numpy as np\n",
        "import qiskit\n",
        "from qiskit.quantum_info import Statevector"
      ]
    },
    {
      "cell_type": "code",
      "execution_count": 57,
      "metadata": {
        "id": "Q7XJB3BlNUax"
      },
      "outputs": [],
      "source": [
        "def keywords_satisfied(text, keywords):\n",
        "  ans = [0] * len(keywords)\n",
        "  for j in range(len(text)):\n",
        "    for i in range(len(keywords)):\n",
        "      if keywords[i] == text[j]:\n",
        "        ans[i] = 1\n",
        "  return sum(ans)\n",
        "  "
      ]
    },
    {
      "cell_type": "code",
      "execution_count": 58,
      "metadata": {
        "id": "b5oWfXSYNUfl"
      },
      "outputs": [],
      "source": [
        "def oracle(article, keywords):\n",
        "  n = keywords_satisfied(article, keywords) \n",
        "  return 1/(2**(len(keywords) - n))"
      ]
    },
    {
      "cell_type": "code",
      "execution_count": 59,
      "metadata": {
        "id": "tbw4cKpYNUiu"
      },
      "outputs": [],
      "source": [
        "# change article.text to whatever the API defines\n",
        "def encode_articles(articles, keywords):\n",
        "  sum = 0\n",
        "  results = []\n",
        "  for i in range(len(articles)):\n",
        "    results.append(oracle(articles[i], keywords))\n",
        "    sum += results[i]**2\n",
        "  for i in range(len(articles)):\n",
        "  \tresults[i] = (1/(sum**(1/2)))* results[i]\n",
        "  return results"
      ]
    },
    {
      "cell_type": "code",
      "execution_count": 60,
      "metadata": {
        "id": "he7Gkenxp1k4"
      },
      "outputs": [],
      "source": [
        "import requests\n",
        "\n",
        "# api call\n",
        "x = requests.get('https://newsapi.org/v2/top-headlines?country=us&apiKey=b72aad9271604a1b888e9479c9de4fb7')\n",
        "articles = dict(x.json())['articles']"
      ]
    },
    {
      "cell_type": "code",
      "execution_count": 61,
      "metadata": {
        "id": "yZ9I7lz_rQGG"
      },
      "outputs": [],
      "source": [
        "# process articles from api\n",
        "test_articles = []\n",
        "for a in articles:\n",
        "  if a['content']:\n",
        "    new_content = a['content'].lower().replace(\".,![]{}-—_;':?\", \"\").split()\n",
        "    new_title = a['title']\n",
        "    new_url = a['url']\n",
        "    test_articles.append((new_title, new_content, new_url))"
      ]
    },
    {
      "cell_type": "code",
      "execution_count": 76,
      "metadata": {
        "id": "nOU9Baq5spNc"
      },
      "outputs": [],
      "source": [
        "# keywords to check for - THIS IS THE USER INPUT\n",
        "test_keywords = [\"test\", \"hello\", \"monday\"]\n",
        "\n",
        "# encoding step\n",
        "def find_article(articles, keywords):\n",
        "  encoded_vector = list(encode_articles([x[1] for x in articles], keywords))\n",
        "  encoded_vector = np.array(encoded_vector)\n",
        "  state_vector = Statevector(data=encoded_vector)\n",
        "  chosen_article = articles[int(state_vector.measure()[0], 2)]\n",
        "  return chosen_article[0], chosen_article[2]"
      ]
    },
    {
      "cell_type": "code",
      "execution_count": 85,
      "metadata": {
        "colab": {
          "base_uri": "https://localhost:8080/"
        },
        "id": "MD2LXVL9tazB",
        "outputId": "9130cc4b-e6fd-4dff-d8f4-548e866fe88c"
      },
      "outputs": [
        {
          "name": "stdout",
          "output_type": "stream",
          "text": [
            "(\"'Overtime, we will see the NFT market broaden,' says Ripple’s CTO David Schwartz - Cointelegraph\", 'https://cointelegraph.com/news/overtime-we-will-see-the-nft-market-broaden-says-ripple-s-cto-david-schwartz')\n"
          ]
        }
      ],
      "source": [
        "# example of getting an article\n",
        "received_article = find_article(test_articles, test_keywords)\n",
        "print(received_article)"
      ]
    }
  ],
  "metadata": {
    "colab": {
      "collapsed_sections": [],
      "name": "quantum_news.ipynb",
      "provenance": []
    },
    "kernelspec": {
      "display_name": "Python 3",
      "name": "python3"
    },
    "language_info": {
      "name": "python"
    }
  },
  "nbformat": 4,
  "nbformat_minor": 0
}
